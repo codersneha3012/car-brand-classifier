{
 "cells": [
  {
   "cell_type": "code",
   "execution_count": 72,
   "id": "continuous-practitioner",
   "metadata": {},
   "outputs": [],
   "source": [
    "# Import the libraries\n",
    "import os\n",
    "from tensorflow.keras.layers import Input, Dense, Lambda, Flatten\n",
    "from tensorflow.keras.models import Model\n",
    "from tensorflow.keras.applications.resnet import ResNet50\n",
    "from glob import glob\n",
    "import matplotlib.pyplot as plt"
   ]
  },
  {
   "cell_type": "code",
   "execution_count": 73,
   "id": "taken-coast",
   "metadata": {},
   "outputs": [],
   "source": [
    "# Defining the constants\n",
    "INPUT_SIZE = [224, 224]\n",
    "\n",
    "TRAIN_PATH = 'Datasets/Train'\n",
    "TEST_PATH = 'Datasets/Test'"
   ]
  },
  {
   "cell_type": "code",
   "execution_count": 74,
   "id": "abroad-newcastle",
   "metadata": {},
   "outputs": [],
   "source": [
    "resnet = ResNet50(input_shape=INPUT_SIZE+[3], include_top=False, weights='imagenet')"
   ]
  },
  {
   "cell_type": "code",
   "execution_count": 75,
   "id": "toxic-corps",
   "metadata": {},
   "outputs": [],
   "source": [
    "for layer in resnet.layers:\n",
    "    layer.trainable=False"
   ]
  },
  {
   "cell_type": "code",
   "execution_count": 76,
   "id": "tested-format",
   "metadata": {},
   "outputs": [],
   "source": [
    "folders = glob(TRAIN_PATH+'/*')"
   ]
  },
  {
   "cell_type": "code",
   "execution_count": 77,
   "id": "celtic-mississippi",
   "metadata": {},
   "outputs": [],
   "source": [
    "### Add an output layer\n",
    "x = Flatten()(resnet.output)"
   ]
  },
  {
   "cell_type": "code",
   "execution_count": 78,
   "id": "third-welcome",
   "metadata": {},
   "outputs": [],
   "source": [
    "output_layer = Dense(len(folders), activation='softmax')(x)"
   ]
  },
  {
   "cell_type": "code",
   "execution_count": 79,
   "id": "institutional-australian",
   "metadata": {},
   "outputs": [],
   "source": [
    "model = Model(inputs=resnet.input, outputs=output_layer)"
   ]
  },
  {
   "cell_type": "code",
   "execution_count": 80,
   "id": "welcome-stake",
   "metadata": {},
   "outputs": [],
   "source": [
    "model.compile(\n",
    "    loss='categorical_crossentropy',\n",
    "    optimizer='adam',\n",
    "    metrics=['accuracy']\n",
    ")"
   ]
  },
  {
   "cell_type": "code",
   "execution_count": 81,
   "id": "psychological-round",
   "metadata": {},
   "outputs": [],
   "source": [
    "# Prepare train and test set\n",
    "from tensorflow.keras.preprocessing.image import ImageDataGenerator\n",
    "\n",
    "train_datagen = ImageDataGenerator(\n",
    "                        rescale=1./255,\n",
    "                        shear_range = 0.2,\n",
    "                        zoom_range = 0.2,\n",
    "                        horizontal_flip = True)\n",
    "\n",
    "test_datagen = ImageDataGenerator(rescale = 1./255)"
   ]
  },
  {
   "cell_type": "code",
   "execution_count": 82,
   "id": "opposed-politics",
   "metadata": {},
   "outputs": [
    {
     "name": "stdout",
     "output_type": "stream",
     "text": [
      "Found 64 images belonging to 3 classes.\n"
     ]
    },
    {
     "data": {
      "text/plain": [
       "<tensorflow.python.keras.preprocessing.image.DirectoryIterator at 0x7f9a6b2c4da0>"
      ]
     },
     "execution_count": 82,
     "metadata": {},
     "output_type": "execute_result"
    }
   ],
   "source": [
    "training_set = train_datagen.flow_from_directory(\n",
    "    TRAIN_PATH,\n",
    "    target_size=INPUT_SIZE,\n",
    "    batch_size=32,\n",
    "    class_mode='categorical'\n",
    ")\n",
    "training_set"
   ]
  },
  {
   "cell_type": "code",
   "execution_count": 83,
   "id": "regional-result",
   "metadata": {},
   "outputs": [
    {
     "name": "stdout",
     "output_type": "stream",
     "text": [
      "Found 58 images belonging to 3 classes.\n"
     ]
    },
    {
     "data": {
      "text/plain": [
       "<tensorflow.python.keras.preprocessing.image.DirectoryIterator at 0x7f9a6b2f76d8>"
      ]
     },
     "execution_count": 83,
     "metadata": {},
     "output_type": "execute_result"
    }
   ],
   "source": [
    "test_set = train_datagen.flow_from_directory(\n",
    "    TEST_PATH,\n",
    "    target_size=INPUT_SIZE,\n",
    "    batch_size=32,\n",
    "    class_mode='categorical'\n",
    ")\n",
    "test_set"
   ]
  },
  {
   "cell_type": "code",
   "execution_count": 84,
   "id": "heard-novelty",
   "metadata": {},
   "outputs": [
    {
     "name": "stdout",
     "output_type": "stream",
     "text": [
      "Epoch 1/50\n",
      "2/2 [==============================] - 11s 6s/step - loss: 4.1980 - accuracy: 0.2500 - val_loss: 7.9934 - val_accuracy: 0.5172\n",
      "Epoch 2/50\n",
      "2/2 [==============================] - 8s 5s/step - loss: 9.6582 - accuracy: 0.3750 - val_loss: 6.0054 - val_accuracy: 0.3276\n",
      "Epoch 3/50\n",
      "2/2 [==============================] - 7s 5s/step - loss: 5.4586 - accuracy: 0.4167 - val_loss: 11.9844 - val_accuracy: 0.1552\n",
      "Epoch 4/50\n",
      "2/2 [==============================] - 8s 5s/step - loss: 7.2804 - accuracy: 0.3646 - val_loss: 7.7274 - val_accuracy: 0.3448\n",
      "Epoch 5/50\n",
      "2/2 [==============================] - 8s 5s/step - loss: 4.5217 - accuracy: 0.5417 - val_loss: 3.4769 - val_accuracy: 0.3276\n",
      "Epoch 6/50\n",
      "2/2 [==============================] - 9s 7s/step - loss: 2.6354 - accuracy: 0.4062 - val_loss: 3.5113 - val_accuracy: 0.5172\n",
      "Epoch 7/50\n",
      "2/2 [==============================] - 9s 6s/step - loss: 3.1262 - accuracy: 0.4375 - val_loss: 3.2174 - val_accuracy: 0.4483\n",
      "Epoch 8/50\n",
      "2/2 [==============================] - 8s 6s/step - loss: 2.8337 - accuracy: 0.5104 - val_loss: 2.2042 - val_accuracy: 0.2586\n",
      "Epoch 9/50\n",
      "2/2 [==============================] - 9s 6s/step - loss: 1.1950 - accuracy: 0.5833 - val_loss: 1.9154 - val_accuracy: 0.3793\n",
      "Epoch 10/50\n",
      "2/2 [==============================] - 8s 6s/step - loss: 1.7525 - accuracy: 0.4583 - val_loss: 1.3983 - val_accuracy: 0.6034\n",
      "Epoch 11/50\n",
      "2/2 [==============================] - 8s 6s/step - loss: 1.2839 - accuracy: 0.5417 - val_loss: 1.7079 - val_accuracy: 0.5690\n",
      "Epoch 12/50\n",
      "2/2 [==============================] - 9s 7s/step - loss: 1.3225 - accuracy: 0.6458 - val_loss: 2.0832 - val_accuracy: 0.3621\n",
      "Epoch 13/50\n",
      "2/2 [==============================] - 9s 6s/step - loss: 1.2404 - accuracy: 0.5521 - val_loss: 1.0875 - val_accuracy: 0.5345\n",
      "Epoch 14/50\n",
      "2/2 [==============================] - 8s 6s/step - loss: 0.8086 - accuracy: 0.6250 - val_loss: 1.2814 - val_accuracy: 0.5000\n",
      "Epoch 15/50\n",
      "2/2 [==============================] - 8s 6s/step - loss: 1.1588 - accuracy: 0.5938 - val_loss: 1.2038 - val_accuracy: 0.5862\n",
      "Epoch 16/50\n",
      "2/2 [==============================] - 8s 6s/step - loss: 0.7266 - accuracy: 0.6875 - val_loss: 1.3765 - val_accuracy: 0.4310\n",
      "Epoch 17/50\n",
      "2/2 [==============================] - 8s 6s/step - loss: 0.6892 - accuracy: 0.6250 - val_loss: 1.1525 - val_accuracy: 0.5862\n",
      "Epoch 18/50\n",
      "2/2 [==============================] - 9s 7s/step - loss: 0.6884 - accuracy: 0.7708 - val_loss: 0.8727 - val_accuracy: 0.6552\n",
      "Epoch 19/50\n",
      "2/2 [==============================] - 8s 6s/step - loss: 0.7857 - accuracy: 0.5833 - val_loss: 1.0866 - val_accuracy: 0.5690\n",
      "Epoch 20/50\n",
      "2/2 [==============================] - 9s 7s/step - loss: 0.6413 - accuracy: 0.7188 - val_loss: 1.0210 - val_accuracy: 0.6034\n",
      "Epoch 21/50\n",
      "2/2 [==============================] - 10s 7s/step - loss: 0.5506 - accuracy: 0.7604 - val_loss: 0.8895 - val_accuracy: 0.6724\n",
      "Epoch 22/50\n",
      "2/2 [==============================] - 10s 7s/step - loss: 0.5015 - accuracy: 0.8229 - val_loss: 0.8406 - val_accuracy: 0.6207\n",
      "Epoch 23/50\n",
      "2/2 [==============================] - 10s 7s/step - loss: 0.4103 - accuracy: 0.7917 - val_loss: 0.9183 - val_accuracy: 0.6034\n",
      "Epoch 24/50\n",
      "2/2 [==============================] - 9s 7s/step - loss: 0.4279 - accuracy: 0.8125 - val_loss: 0.8305 - val_accuracy: 0.6207\n",
      "Epoch 25/50\n",
      "2/2 [==============================] - 10s 7s/step - loss: 0.2933 - accuracy: 0.8854 - val_loss: 0.8717 - val_accuracy: 0.5862\n",
      "Epoch 26/50\n",
      "2/2 [==============================] - 10s 7s/step - loss: 0.3520 - accuracy: 0.8542 - val_loss: 0.8986 - val_accuracy: 0.6552\n",
      "Epoch 27/50\n",
      "2/2 [==============================] - 10s 7s/step - loss: 0.3509 - accuracy: 0.8125 - val_loss: 0.7480 - val_accuracy: 0.7069\n",
      "Epoch 28/50\n",
      "2/2 [==============================] - 10s 7s/step - loss: 0.2890 - accuracy: 0.9271 - val_loss: 0.7697 - val_accuracy: 0.6724\n",
      "Epoch 29/50\n",
      "2/2 [==============================] - 10s 7s/step - loss: 0.2834 - accuracy: 0.9062 - val_loss: 0.7643 - val_accuracy: 0.6897\n",
      "Epoch 30/50\n",
      "2/2 [==============================] - 10s 7s/step - loss: 0.2751 - accuracy: 0.8958 - val_loss: 0.8831 - val_accuracy: 0.6034\n",
      "Epoch 31/50\n",
      "2/2 [==============================] - 10s 7s/step - loss: 0.3232 - accuracy: 0.9062 - val_loss: 0.6656 - val_accuracy: 0.7414\n",
      "Epoch 32/50\n",
      "2/2 [==============================] - 10s 7s/step - loss: 0.2891 - accuracy: 0.8646 - val_loss: 0.8421 - val_accuracy: 0.6034\n",
      "Epoch 33/50\n",
      "2/2 [==============================] - 8s 6s/step - loss: 0.3080 - accuracy: 0.8854 - val_loss: 0.7222 - val_accuracy: 0.7241\n",
      "Epoch 34/50\n",
      "2/2 [==============================] - 8s 6s/step - loss: 0.2479 - accuracy: 0.9479 - val_loss: 0.7083 - val_accuracy: 0.7241\n",
      "Epoch 35/50\n",
      "2/2 [==============================] - 9s 6s/step - loss: 0.2907 - accuracy: 0.9062 - val_loss: 0.6961 - val_accuracy: 0.7069\n",
      "Epoch 36/50\n",
      "2/2 [==============================] - 8s 6s/step - loss: 0.2412 - accuracy: 0.9479 - val_loss: 0.7929 - val_accuracy: 0.6897\n",
      "Epoch 37/50\n",
      "2/2 [==============================] - 8s 6s/step - loss: 0.2726 - accuracy: 0.8854 - val_loss: 0.8673 - val_accuracy: 0.5862\n",
      "Epoch 38/50\n",
      "2/2 [==============================] - 8s 6s/step - loss: 0.2310 - accuracy: 0.9792 - val_loss: 0.6794 - val_accuracy: 0.7241\n",
      "Epoch 39/50\n",
      "2/2 [==============================] - 8s 6s/step - loss: 0.2837 - accuracy: 0.9375 - val_loss: 0.7386 - val_accuracy: 0.6897\n",
      "Epoch 40/50\n",
      "2/2 [==============================] - 8s 6s/step - loss: 0.3180 - accuracy: 0.8854 - val_loss: 0.7686 - val_accuracy: 0.6552\n",
      "Epoch 41/50\n",
      "2/2 [==============================] - 8s 6s/step - loss: 0.2465 - accuracy: 0.9167 - val_loss: 0.7534 - val_accuracy: 0.6552\n",
      "Epoch 42/50\n",
      "2/2 [==============================] - 8s 6s/step - loss: 0.2217 - accuracy: 0.9479 - val_loss: 0.7908 - val_accuracy: 0.7069\n",
      "Epoch 43/50\n",
      "2/2 [==============================] - 8s 6s/step - loss: 0.2253 - accuracy: 0.9375 - val_loss: 0.7363 - val_accuracy: 0.7414\n",
      "Epoch 44/50\n",
      "2/2 [==============================] - 8s 6s/step - loss: 0.2367 - accuracy: 0.9479 - val_loss: 0.8788 - val_accuracy: 0.7069\n",
      "Epoch 45/50\n",
      "2/2 [==============================] - 8s 6s/step - loss: 0.2303 - accuracy: 0.9271 - val_loss: 0.8890 - val_accuracy: 0.5517\n",
      "Epoch 46/50\n",
      "2/2 [==============================] - 8s 6s/step - loss: 0.2808 - accuracy: 0.9062 - val_loss: 0.7448 - val_accuracy: 0.7586\n",
      "Epoch 47/50\n",
      "2/2 [==============================] - 9s 6s/step - loss: 0.2907 - accuracy: 0.8958 - val_loss: 0.7153 - val_accuracy: 0.7241\n",
      "Epoch 48/50\n",
      "2/2 [==============================] - 9s 6s/step - loss: 0.1803 - accuracy: 0.9688 - val_loss: 0.7239 - val_accuracy: 0.6724\n",
      "Epoch 49/50\n",
      "2/2 [==============================] - 9s 6s/step - loss: 0.2281 - accuracy: 0.9375 - val_loss: 0.7474 - val_accuracy: 0.6552\n",
      "Epoch 50/50\n",
      "2/2 [==============================] - 8s 6s/step - loss: 0.1966 - accuracy: 0.9583 - val_loss: 0.7685 - val_accuracy: 0.7241\n"
     ]
    }
   ],
   "source": [
    "r = model.fit_generator(\n",
    "    training_set,\n",
    "    validation_data=test_set,\n",
    "    epochs=50,\n",
    "    steps_per_epoch=len(training_set),\n",
    "    validation_steps=len(test_set)\n",
    ")"
   ]
  },
  {
   "cell_type": "code",
   "execution_count": 85,
   "id": "incredible-calendar",
   "metadata": {},
   "outputs": [
    {
     "data": {
      "image/png": "[encoded data removed]",
      "text/plain": [
       "<Figure size 432x288 with 1 Axes>"
      ]
     },
     "metadata": {
      "needs_background": "light"
     },
     "output_type": "display_data"
    },
    {
     "data": {
      "image/png": "[encoded data removed]",
      "text/plain": [
       "<Figure size 432x288 with 1 Axes>"
      ]
     },
     "metadata": {
      "needs_background": "light"
     },
     "output_type": "display_data"
    },
    {
     "data": {
      "text/plain": [
       "<Figure size 432x288 with 0 Axes>"
      ]
     },
     "metadata": {},
     "output_type": "display_data"
    }
   ],
   "source": [
    "# plot the loss\n",
    "plt.plot(r.history['loss'], label='train loss')\n",
    "plt.plot(r.history['val_loss'], label='val loss')\n",
    "plt.legend()\n",
    "plt.show()\n",
    "plt.savefig('LossVal_loss')\n",
    "\n",
    "# plot the accuracy\n",
    "plt.plot(r.history['accuracy'], label='train acc')\n",
    "plt.plot(r.history['val_accuracy'], label='val acc')\n",
    "plt.legend()\n",
    "plt.show()\n",
    "plt.savefig('AccVal_acc')"
   ]
  },
  {
   "cell_type": "code",
   "execution_count": 86,
   "id": "sophisticated-offering",
   "metadata": {},
   "outputs": [],
   "source": [
    "\n",
    "# save it as a h5 file\n",
    "\n",
    "\n",
    "from tensorflow.keras.models import load_model\n",
    "\n",
    "model.save('model_resnet50.h5')"
   ]
  },
  {
   "cell_type": "markdown",
   "id": "unsigned-fitting",
   "metadata": {},
   "source": [
    "### Load model and perform prediction"
   ]
  },
  {
   "cell_type": "code",
   "execution_count": 87,
   "id": "excessive-essence",
   "metadata": {},
   "outputs": [],
   "source": [
    "from tensorflow.keras.models import load_model\n",
    "from tensorflow.keras.preprocessing import image"
   ]
  },
  {
   "cell_type": "code",
   "execution_count": 88,
   "id": "discrete-authority",
   "metadata": {},
   "outputs": [],
   "source": [
    "model=load_model('model_resnet50.h5')"
   ]
  },
  {
   "cell_type": "code",
   "execution_count": 89,
   "id": "directed-thanksgiving",
   "metadata": {},
   "outputs": [],
   "source": [
    "img=image.load_img('Datasets/Test/lamborghini/1.jpg',target_size=(224,224))"
   ]
  },
  {
   "cell_type": "code",
   "execution_count": 90,
   "id": "optical-modern",
   "metadata": {},
   "outputs": [
    {
     "data": {
      "text/plain": [
       "array([[[ 70.,  75.,  81.],\n",
       "        [ 48.,  53.,  59.],\n",
       "        [135., 140., 144.],\n",
       "        ...,\n",
       "        [ 75.,  70.,  67.],\n",
       "        [ 88.,  79.,  80.],\n",
       "        [ 94.,  85.,  86.]],\n",
       "\n",
       "       [[  2.,   7.,  13.],\n",
       "        [  1.,   6.,  10.],\n",
       "        [ 11.,  16.,  20.],\n",
       "        ...,\n",
       "        [ 71.,  66.,  63.],\n",
       "        [ 87.,  78.,  79.],\n",
       "        [ 89.,  80.,  81.]],\n",
       "\n",
       "       [[ 34.,  39.,  43.],\n",
       "        [ 68.,  73.,  77.],\n",
       "        [ 16.,  21.,  25.],\n",
       "        ...,\n",
       "        [105., 100.,  97.],\n",
       "        [ 72.,  63.,  64.],\n",
       "        [ 75.,  66.,  67.]],\n",
       "\n",
       "       ...,\n",
       "\n",
       "       [[ 34.,  33.,  39.],\n",
       "        [ 35.,  34.,  40.],\n",
       "        [ 43.,  42.,  48.],\n",
       "        ...,\n",
       "        [200., 199., 205.],\n",
       "        [144., 145., 150.],\n",
       "        [123., 124., 129.]],\n",
       "\n",
       "       [[ 32.,  31.,  37.],\n",
       "        [ 34.,  33.,  39.],\n",
       "        [ 44.,  43.,  49.],\n",
       "        ...,\n",
       "        [210., 209., 215.],\n",
       "        [226., 227., 232.],\n",
       "        [210., 211., 216.]],\n",
       "\n",
       "       [[ 33.,  32.,  38.],\n",
       "        [ 35.,  34.,  40.],\n",
       "        [ 43.,  42.,  48.],\n",
       "        ...,\n",
       "        [205., 204., 210.],\n",
       "        [201., 202., 207.],\n",
       "        [202., 203., 208.]]], dtype=float32)"
      ]
     },
     "execution_count": 90,
     "metadata": {},
     "output_type": "execute_result"
    }
   ],
   "source": [
    "x=image.img_to_array(img)\n",
    "x"
   ]
  },
  {
   "cell_type": "code",
   "execution_count": 91,
   "id": "applicable-parking",
   "metadata": {},
   "outputs": [
    {
     "data": {
      "text/plain": [
       "(224, 224, 3)"
      ]
     },
     "execution_count": 91,
     "metadata": {},
     "output_type": "execute_result"
    }
   ],
   "source": [
    "x.shape"
   ]
  },
  {
   "cell_type": "code",
   "execution_count": 92,
   "id": "equipped-device",
   "metadata": {},
   "outputs": [],
   "source": [
    "x=x/255"
   ]
  },
  {
   "cell_type": "code",
   "execution_count": 93,
   "id": "fresh-carolina",
   "metadata": {},
   "outputs": [
    {
     "data": {
      "text/plain": [
       "(1, 224, 224, 3)"
      ]
     },
     "execution_count": 93,
     "metadata": {},
     "output_type": "execute_result"
    }
   ],
   "source": [
    "import numpy as np\n",
    "x=np.expand_dims(x,axis=0)\n",
    "x.shape"
   ]
  },
  {
   "cell_type": "code",
   "execution_count": 94,
   "id": "statewide-glasgow",
   "metadata": {},
   "outputs": [
    {
     "data": {
      "text/plain": [
       "(1, 224, 224, 3)"
      ]
     },
     "execution_count": 94,
     "metadata": {},
     "output_type": "execute_result"
    }
   ],
   "source": [
    "from tensorflow.keras.applications.imagenet_utils import preprocess_input\n",
    "img_data=preprocess_input(x)\n",
    "img_data.shape"
   ]
  },
  {
   "cell_type": "code",
   "execution_count": 95,
   "id": "remarkable-colleague",
   "metadata": {},
   "outputs": [],
   "source": [
    "y_pred = model.predict(img_data)"
   ]
  },
  {
   "cell_type": "code",
   "execution_count": 96,
   "id": "settled-trust",
   "metadata": {},
   "outputs": [],
   "source": [
    "a=np.argmax(model.predict(img_data), axis=1)"
   ]
  },
  {
   "cell_type": "markdown",
   "id": "applied-cigarette",
   "metadata": {},
   "source": [
    "## "
   ]
  },
  {
   "cell_type": "code",
   "execution_count": 97,
   "id": "limiting-poison",
   "metadata": {},
   "outputs": [
    {
     "data": {
      "text/plain": [
       "array([2])"
      ]
     },
     "execution_count": 97,
     "metadata": {},
     "output_type": "execute_result"
    }
   ],
   "source": [
    "a"
   ]
  },
  {
   "cell_type": "code",
   "execution_count": null,
   "id": "dangerous-clinton",
   "metadata": {},
   "outputs": [],
   "source": []
  }
 ],
 "metadata": {
  "kernelspec": {
   "display_name": "Python 3",
   "language": "python",
   "name": "python3"
  },
  "language_info": {
   "codemirror_mode": {
    "name": "ipython",
    "version": 3
   },
   "file_extension": ".py",
   "mimetype": "text/x-python",
   "name": "python",
   "nbconvert_exporter": "python",
   "pygments_lexer": "ipython3",
   "version": "3.6.12"
  }
 },
 "nbformat": 4,
 "nbformat_minor": 5
}
