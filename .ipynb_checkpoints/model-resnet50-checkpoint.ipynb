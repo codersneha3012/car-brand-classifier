{
 "cells": [
  {
   "cell_type": "code",
   "execution_count": 14,
   "id": "ready-familiar",
   "metadata": {},
   "outputs": [],
   "source": [
    "# Import the libraries\n",
    "import os\n",
    "from tensorflow.keras.layers import Input, Dense, Lambda, Flatten\n",
    "from tensorflow.keras.models import Model\n",
    "from tensorflow.keras.applications.resnet import ResNet50\n",
    "from glob import glob"
   ]
  },
  {
   "cell_type": "code",
   "execution_count": 19,
   "id": "forced-reply",
   "metadata": {},
   "outputs": [],
   "source": [
    "# Defining the constants\n",
    "INPUT_SIZE = [224, 244]\n",
    "\n",
    "TRAIN_PATH = 'Datasets/Train'\n",
    "TEST_PATH = 'Datasets/Test'"
   ]
  },
  {
   "cell_type": "code",
   "execution_count": 24,
   "id": "abstract-scanning",
   "metadata": {},
   "outputs": [],
   "source": [
    "resnet = ResNet50(input_shape=INPUT_SIZE+[3], include_top=False, weights='imagenet')"
   ]
  },
  {
   "cell_type": "code",
   "execution_count": 33,
   "id": "decimal-marker",
   "metadata": {},
   "outputs": [],
   "source": [
    "for layer in resnet.layers:\n",
    "    layer.trainable=False"
   ]
  },
  {
   "cell_type": "code",
   "execution_count": 26,
   "id": "massive-breathing",
   "metadata": {},
   "outputs": [],
   "source": [
    "folders = glob(TRAIN_PATH+'/*')"
   ]
  },
  {
   "cell_type": "code",
   "execution_count": 27,
   "id": "defensive-cornwall",
   "metadata": {},
   "outputs": [],
   "source": [
    "### Add an output layer\n",
    "x = Flatten()(resnet.output)"
   ]
  },
  {
   "cell_type": "code",
   "execution_count": 28,
   "id": "banner-granny",
   "metadata": {},
   "outputs": [],
   "source": [
    "output_layer = Dense(len(folders), activation='softmax')(x)"
   ]
  },
  {
   "cell_type": "code",
   "execution_count": 36,
   "id": "capable-auckland",
   "metadata": {},
   "outputs": [],
   "source": [
    "model = Model(inputs=resnet.input, outputs=output_layer)"
   ]
  },
  {
   "cell_type": "code",
   "execution_count": 37,
   "id": "through-budget",
   "metadata": {},
   "outputs": [],
   "source": [
    "model.compile(\n",
    "    loss='categorical_crossentropy',\n",
    "    optimizer='adam',\n",
    "    metrics=['accuracy']\n",
    ")"
   ]
  },
  {
   "cell_type": "code",
   "execution_count": 38,
   "id": "white-engagement",
   "metadata": {},
   "outputs": [],
   "source": [
    "# Prepare train and test set\n",
    "from tensorflow.keras.preprocessing.image import ImageDataGenerator\n",
    "\n",
    "train_datagen = ImageDataGenerator(\n",
    "                        rescale=1./255,\n",
    "                        shear_range = 0.2,\n",
    "                        zoom_range = 0.2,\n",
    "                        horizontal_flip = True)\n",
    "\n",
    "test_datagen = ImageDataGenerator(rescale = 1./255)"
   ]
  },
  {
   "cell_type": "code",
   "execution_count": 39,
   "id": "sustainable-pilot",
   "metadata": {},
   "outputs": [
    {
     "name": "stdout",
     "output_type": "stream",
     "text": [
      "Found 64 images belonging to 3 classes.\n"
     ]
    },
    {
     "data": {
      "text/plain": [
       "<tensorflow.python.keras.preprocessing.image.DirectoryIterator at 0x7f99e87d5eb8>"
      ]
     },
     "execution_count": 39,
     "metadata": {},
     "output_type": "execute_result"
    }
   ],
   "source": [
    "training_set = train_datagen.flow_from_directory(\n",
    "    TRAIN_PATH,\n",
    "    target_size=INPUT_SIZE,\n",
    "    batch_size=32,\n",
    "    class_mode='categorical'\n",
    ")\n",
    "training_set"
   ]
  },
  {
   "cell_type": "code",
   "execution_count": 40,
   "id": "computational-canadian",
   "metadata": {},
   "outputs": [
    {
     "name": "stdout",
     "output_type": "stream",
     "text": [
      "Found 58 images belonging to 3 classes.\n"
     ]
    },
    {
     "data": {
      "text/plain": [
       "<tensorflow.python.keras.preprocessing.image.DirectoryIterator at 0x7f99e87c0e10>"
      ]
     },
     "execution_count": 40,
     "metadata": {},
     "output_type": "execute_result"
    }
   ],
   "source": [
    "test_set = train_datagen.flow_from_directory(\n",
    "    TEST_PATH,\n",
    "    target_size=INPUT_SIZE,\n",
    "    batch_size=32,\n",
    "    class_mode='categorical'\n",
    ")\n",
    "test_set"
   ]
  },
  {
   "cell_type": "code",
   "execution_count": 42,
   "id": "parallel-wonder",
   "metadata": {},
   "outputs": [
    {
     "name": "stderr",
     "output_type": "stream",
     "text": [
      "/home/sneha/anaconda3/envs/carbrand/lib/python3.6/site-packages/tensorflow/python/keras/engine/training.py:1844: UserWarning: `Model.fit_generator` is deprecated and will be removed in a future version. Please use `Model.fit`, which supports generators.\n",
      "  warnings.warn('`Model.fit_generator` is deprecated and '\n"
     ]
    },
    {
     "name": "stdout",
     "output_type": "stream",
     "text": [
      "Epoch 1/5\n",
      "2/2 [==============================] - 11s 7s/step - loss: 11.2592 - accuracy: 0.3333 - val_loss: 10.5657 - val_accuracy: 0.5172\n",
      "Epoch 2/5\n",
      "2/2 [==============================] - 8s 6s/step - loss: 10.1648 - accuracy: 0.3646 - val_loss: 16.9950 - val_accuracy: 0.3276\n",
      "Epoch 3/5\n",
      "2/2 [==============================] - 8s 6s/step - loss: 13.0725 - accuracy: 0.4167 - val_loss: 15.6674 - val_accuracy: 0.3276\n",
      "Epoch 4/5\n",
      "2/2 [==============================] - 8s 6s/step - loss: 11.7497 - accuracy: 0.3438 - val_loss: 19.4731 - val_accuracy: 0.1552\n",
      "Epoch 5/5\n",
      "2/2 [==============================] - 8s 6s/step - loss: 11.5229 - accuracy: 0.3229 - val_loss: 1.3296 - val_accuracy: 0.5172\n"
     ]
    },
    {
     "data": {
      "text/plain": [
       "<tensorflow.python.keras.callbacks.History at 0x7f99e868fc18>"
      ]
     },
     "execution_count": 42,
     "metadata": {},
     "output_type": "execute_result"
    }
   ],
   "source": [
    "r = model.fit_generator(\n",
    "    training_set,\n",
    "    validation_data=test_set,\n",
    "    epochs=50,\n",
    "    steps_per_epoch=len(training_set),\n",
    "    validation_steps=len(test_set)\n",
    ")"
   ]
  },
  {
   "cell_type": "code",
   "execution_count": null,
   "id": "accurate-budget",
   "metadata": {},
   "outputs": [],
   "source": []
  }
 ],
 "metadata": {
  "kernelspec": {
   "display_name": "Python 3",
   "language": "python",
   "name": "python3"
  },
  "language_info": {
   "codemirror_mode": {
    "name": "ipython",
    "version": 3
   },
   "file_extension": ".py",
   "mimetype": "text/x-python",
   "name": "python",
   "nbconvert_exporter": "python",
   "pygments_lexer": "ipython3",
   "version": "3.6.12"
  }
 },
 "nbformat": 4,
 "nbformat_minor": 5
}
